{
 "cells": [
  {
   "attachments": {},
   "cell_type": "markdown",
   "metadata": {},
   "source": [
    "### Setup"
   ]
  },
  {
   "cell_type": "code",
   "execution_count": 8,
   "metadata": {},
   "outputs": [],
   "source": [
    "import csv\n",
    "import random\n",
    "import datetime as dt\n",
    "\n",
    "def newline(f):\n",
    "    f.write(\"\\n\")"
   ]
  },
  {
   "attachments": {},
   "cell_type": "markdown",
   "metadata": {},
   "source": [
    "### Entity: `address`\n",
    "\n",
    "Fields: `(addressID, street_name, apt_number, city, state, zip, country)`"
   ]
  },
  {
   "cell_type": "code",
   "execution_count": 2,
   "metadata": {},
   "outputs": [
    {
     "name": "stdout",
     "output_type": "stream",
     "text": [
      "Generated address.sql\n"
     ]
    }
   ],
   "source": [
    "with (\n",
    "    open(\"Data/address.csv\", \"r\") as f1, \n",
    "    open(\"Data-Population/address.sql\", \"w\") as f2\n",
    "):\n",
    "    reader = csv.reader(f1)\n",
    "    next(reader)\n",
    "    f2.write(\"USE EBMS;\")\n",
    "    newline(f2)\n",
    "    newline(f2)\n",
    "    for row in reader:\n",
    "        f2.write(\"INSERT INTO address VALUES (\")\n",
    "        for i in range(len(row)):\n",
    "            if row[i].isdigit() or row[i].casefold() in {\"true\", \"false\"}:\n",
    "                f2.write(row[i])\n",
    "            else:\n",
    "                f2.write(f\"{row[i]!r}\")\n",
    "            if i != len(row) - 1:\n",
    "                f2.write(\", \")\n",
    "        f2.write(\");\")\n",
    "        newline(f2)\n",
    "\n",
    "print(\"Generated address.sql\")"
   ]
  },
  {
   "attachments": {},
   "cell_type": "markdown",
   "metadata": {},
   "source": [
    "### Entity: `phone_number`\n",
    "\n",
    "Fields: `(phoneID, num)`"
   ]
  },
  {
   "cell_type": "code",
   "execution_count": 3,
   "metadata": {},
   "outputs": [
    {
     "name": "stdout",
     "output_type": "stream",
     "text": [
      "Generated phone_number.sql\n"
     ]
    }
   ],
   "source": [
    "with (\n",
    "    open(\"Data/phone_number.csv\", \"r\") as f1, \n",
    "    open(\"Data-Population/phone_number.sql\", \"w\") as f2\n",
    "):\n",
    "    reader = csv.reader(f1)\n",
    "    next(reader)\n",
    "    f2.write(\"USE EBMS;\")\n",
    "    newline(f2)\n",
    "    newline(f2)\n",
    "    for row in reader:\n",
    "        f2.write(f\"INSERT INTO phone_number VALUES ({row[0]}, {row[1]!r});\")\n",
    "        newline(f2)\n",
    "\n",
    "print(\"Generated phone_number.sql\")"
   ]
  },
  {
   "attachments": {},
   "cell_type": "markdown",
   "metadata": {},
   "source": [
    "### Entity: `admin`\n",
    "\n",
    "Fields: `(adminID, username, pwd)`"
   ]
  },
  {
   "cell_type": "code",
   "execution_count": 4,
   "metadata": {},
   "outputs": [
    {
     "name": "stdout",
     "output_type": "stream",
     "text": [
      "Generated admin.sql\n"
     ]
    }
   ],
   "source": [
    "with open(\"Data-Population/admin.sql\", \"w\") as f:\n",
    "    f.write(\"USE EBMS;\")\n",
    "    newline(f)\n",
    "    newline(f)\n",
    "    f.write(\"INSERT INTO admin VALUES (1, 'dvgt', 'dvgt1234');\")\n",
    "    newline(f)\n",
    "    f.write(\"INSERT INTO admin VALUES (2, 'mhrk', 'mhrk1234');\")\n",
    "    newline(f)\n",
    "\n",
    "print(\"Generated admin.sql\")"
   ]
  },
  {
   "attachments": {},
   "cell_type": "markdown",
   "metadata": {},
   "source": [
    "### Entity: `supplier`\n",
    "\n",
    "Fields: `(supplierID, first_name, middle_initial, last_name, addressID, email, pwd)`"
   ]
  },
  {
   "cell_type": "code",
   "execution_count": 5,
   "metadata": {},
   "outputs": [
    {
     "name": "stdout",
     "output_type": "stream",
     "text": [
      "Generated supplier.sql\n"
     ]
    }
   ],
   "source": [
    "with (\n",
    "    open(\"Data/supplier.csv\", \"r\") as f1, \n",
    "    open(\"Data-Population/supplier.sql\", \"w\") as f2\n",
    "):\n",
    "    reader = csv.reader(f1)\n",
    "    next(reader)\n",
    "    f2.write(\"USE EBMS;\")\n",
    "    newline(f2)\n",
    "    newline(f2)\n",
    "    for row in reader:\n",
    "        f2.write(\"INSERT INTO supplier VALUES (\")\n",
    "        for i in range(len(row)):\n",
    "            if row[i].isdigit() or row[i].casefold() in {\"true\", \"false\"}:\n",
    "                f2.write(row[i])\n",
    "            else:\n",
    "                f2.write(f\"{row[i]!r}\")\n",
    "            if i != len(row) - 1:\n",
    "                f2.write(\", \")\n",
    "        f2.write(\");\")\n",
    "        newline(f2)\n",
    "\n",
    "print(\"Generated supplier.sql\")"
   ]
  },
  {
   "attachments": {},
   "cell_type": "markdown",
   "metadata": {},
   "source": [
    "### Entity: `customer`\n",
    "\n",
    "Fields: `(customerID, first_name, middle_initial, last_name, addressID, age, email, pwd, phoneID)`"
   ]
  },
  {
   "cell_type": "code",
   "execution_count": 6,
   "metadata": {},
   "outputs": [
    {
     "name": "stdout",
     "output_type": "stream",
     "text": [
      "Generated customer.sql\n"
     ]
    }
   ],
   "source": [
    "with (\n",
    "    open(\"Data/customer.csv\", \"r\") as f1, \n",
    "    open(\"Data-Population/customer.sql\", \"w\") as f2\n",
    "):\n",
    "    reader = csv.reader(f1)\n",
    "    next(reader)\n",
    "    f2.write(\"USE EBMS;\")\n",
    "    newline(f2)\n",
    "    newline(f2)\n",
    "    for row in reader:\n",
    "        f2.write(\"INSERT INTO customer VALUES (\")\n",
    "        for i in range(len(row)):\n",
    "            if row[i].isdigit() or row[i].casefold() in {\"true\", \"false\"}:\n",
    "                f2.write(row[i])\n",
    "            else:\n",
    "                f2.write(f\"{row[i]!r}\")\n",
    "            if i != len(row) - 1:\n",
    "                f2.write(\", \")\n",
    "        f2.write(\");\")\n",
    "        newline(f2)\n",
    "\n",
    "print(\"Generated customer.sql\")"
   ]
  },
  {
   "attachments": {},
   "cell_type": "markdown",
   "metadata": {},
   "source": [
    "### Entity: `delivery_agent`\n",
    "\n",
    "Fields: `(daID, first_name, middle_initial, last_name, availability, phoneID, email, pwd)`"
   ]
  },
  {
   "cell_type": "code",
   "execution_count": 7,
   "metadata": {},
   "outputs": [
    {
     "name": "stdout",
     "output_type": "stream",
     "text": [
      "Generated delivery_agent.sql\n"
     ]
    }
   ],
   "source": [
    "with (\n",
    "    open(\"Data/delivery_agent.csv\", \"r\") as f1, \n",
    "    open(\"Data-Population/delivery_agent.sql\", \"w\") as f2\n",
    "):\n",
    "    reader = csv.reader(f1)\n",
    "    next(reader)\n",
    "    f2.write(\"USE EBMS;\")\n",
    "    newline(f2)\n",
    "    newline(f2)\n",
    "    for row in reader:\n",
    "        f2.write(\"INSERT INTO delivery_agent VALUES (\")\n",
    "        for i in range(len(row)):\n",
    "            if row[i].isdigit() or row[i].casefold() in {\"true\", \"false\"}:\n",
    "                f2.write(row[i])\n",
    "            else:\n",
    "                f2.write(f\"{row[i]!r}\")\n",
    "            if i != len(row) - 1:\n",
    "                f2.write(\", \")\n",
    "        f2.write(\");\")\n",
    "        newline(f2)\n",
    "\n",
    "print(\"Generated delivery_agent.sql\")"
   ]
  },
  {
   "attachments": {},
   "cell_type": "markdown",
   "metadata": {},
   "source": [
    "### Entity: `product`\n",
    "\n",
    "Fields: `(productID, name, supplierID, price, quantity, product_description)`"
   ]
  },
  {
   "cell_type": "code",
   "execution_count": 8,
   "metadata": {},
   "outputs": [
    {
     "name": "stdout",
     "output_type": "stream",
     "text": [
      "Generated product.sql\n"
     ]
    }
   ],
   "source": [
    "import random\n",
    "import os\n",
    "\n",
    "products = sorted({\n",
    "    \"Laptop\", \"Desktop\", \"Monitor\", \"Keyboard\", \"Mouse\", \"Printer\", \"Scanner\", \"Speaker\", \"Headphone\", \"Microphone\",\n",
    "    \"Router\", \"Switch\", \"Modem\", \"Cable\", \"Power Bank\", \"Charger\", \"Adapter\", \"Battery\", \"SSD\", \"HDD\", \"RAM\", \"CPU\",\n",
    "    \"Motherboard\", \"Graphics Card\", \"Cooler\", \"Case\", \"Fan\", \"UPS\", \"Stabilizer\", \"Inverter\", \"CCTV\", \"Camera\", \"TV\",\n",
    "    \"Projector\", \"Smartphone\", \"Tablet\", \"Smartwatch\", \"Smartband\", \"Smartpen\", \"Smartglasses\", \"Smartlock\", \"Smartdoor\",\n",
    "    \"Smartbulb\", \"Smartsocket\", \"Smartplug\", \"Smartkey\", \"Smartcard\", \"Smartphone Case\", \"Smartphone Charger\",\n",
    "    \"Smartphone Screen Protector\", \"Smartphone Cable\", \"Smartphone Headphone\", \"Smartphone Battery\", \"Smartphone Holder\",\n",
    "    \"Smartphone Stand\", \"Smartphone Tripod\", \"Smartphone Lens\", \"Smartphone Microphone\", \"Smartphone Speaker\",\n",
    "    \"Smartphone Selfie Stick\", \"Smartphone Stylus\", \"Smartphone VR\", \"Smartphone Gamepad\", \"Smartphone Keyboard\",\n",
    "    \"Smartphone Mouse\", \"Smartphone Joystick\", \"Smartphone Ring Light\", \"Smartphone Tripod\", \"Smartphone Tripod\",\n",
    "    \"iPhone\", \"iPad\", \"iPod\", \"Macbook\", \"Macbook Pro\", \"Macbook Air\", \"Macbook Pro\", \"Macbook Pro\", \"Macbook Pro\",\n",
    "    \"LED Lights\", \"LED Bulb\", \"LED Strip\", \"LED Panel\", \"LED Tube\", \"LED Spotlight\", \"LED Floodlight\", \"LED Downlight\",\n",
    "    \"LED Ceiling Light\", \"LED Wall Light\", \"LED Chandelier\", \"LED Pendant Light\", \"LED Table Lamp\", \"LED Floor Lamp\",\n",
    "    \"LED Desk Lamp\", \"LED Spot Light\", \"LED Track Light\", \"LED Under Cabinet Light\", \"LED Underwater Light\", \"LED Grow Light\",\n",
    "    \"LED Stage Light\", \"LED Light Bar\", \"LED Light Box\", \"LED Light Curtain\", \"LED Light Cube\", \"LED Light Panel\",\n",
    "    \"LED Light Tube\", \"LED Light Wall\", \"LED Light Wall\", \"LED Light Wall\", \"LED Light Wall\", \"LED Light Wall\",\n",
    "    \"Ceiling Fan\", \"Ceiling Light\", \"Ceiling Lamp\", \"Ceiling Fan\", \"Ceiling Fan\", \"Ceiling Fan\", \"Ceiling Fan\",\n",
    "    \"Bedside Lamp\", \"Digital Wrist Watch\", \"Smart Watch\", \"Smart Wrist Band\", \"Smart Bracelet\", \"Smart Ring\", \"Smart Glasses\",\n",
    "    \"Smart Pen\", \"Smart Lock\", \"Smart Door\", \"Smart Bulb\", \"Smart Socket\", \"Smart Plug\", \"Smart Key\", \"Smart Card\",\n",
    "    \"Smartphone Case\", \"Smartphone Charger\", \"Smartphone Screen Protector\", \"Smartphone Cable\", \"Smartphone Headphone\",\n",
    "    \"Smartphone Battery\", \"Smartphone Holder\", \"Smartphone Stand\", \"Smartphone Tripod\", \"Smartphone Lens\",\n",
    "    \"Smartphone Microphone\", \"Smartphone Speaker\", \"Smartphone Selfie Stick\", \"Smartphone Stylus\", \"Smartphone VR\",\n",
    "    \"Smartphone Gamepad\", \"Smartphone Keyboard\", \"Smartphone Mouse\", \"Smartphone Joystick\", \"Smartphone Ring Light\",\n",
    "    \"Gaming Laptop\", \"Gaming Desktop\", \"Gaming Monitor\", \"Gaming Keyboard\", \"Gaming Mouse\", \"Gaming Printer\", \"Gaming Scanner\",\n",
    "    \"Gaming Speaker\", \"Gaming Headphone\", \"Gaming Microphone\", \"Gaming Router\", \"Gaming Switch\", \"Gaming Modem\", \"Gaming Cable\",\n",
    "    \"Ultra HD TV\", \"Smart TV\", \"LED TV\", \"LCD TV\", \"Plasma TV\", \"OLED TV\", \"QLED TV\", \"Curved TV\", \"3D TV\", \"4K TV\", \"8K TV\",\n",
    "    \"Projector\", \"Projector Screen\", \"Projector Lamp\", \"Projector Mount\", \"Projector Stand\", \"Projector Tripod\",\n",
    "    \"Projector Ceiling Mount\", \"Projector Wall Mount\", \"Projector Ceiling Mount\", \"Smart VR Glasses\", \"Smart VR Headset\",\n",
    "    \"VR Box\", \"VR Headset\", \"VR Goggles\", \"3D Printer\", \"3D Scanner\", \"3D Pen\", \"3D Printer Filament\", \"3D Printer Nozzle\",\n",
    "    \"3D Printer Extruder\", \"3D Printer Bed\", \"3D Printer Controller\", \"3D Printer Power Supply\", \"3D Printer Heated Bed\",\n",
    "    \"3D Printer Hotend\", \"3D Printer Motor\", \"3D Printer Motherboard\", \"3D Printer LCD Screen\", \"3D Printer LCD Screen\",\n",
    "    \"Laser Printer\", \"Laser Printer Toner\", \"Laser Printer Drum\", \"Laser Printer Fuser\", \"Laser Printer Transfer Belt\",\n",
    "    \"Laser Printer Transfer Roller\", \"Laser Printer Transfer Roller\", \"Laser Printer Transfer Roller\", \"Laser Printer Transfer Roller\",\n",
    "    \"Refrigerator\", \"Washing Machine\", \"Type-C Cables\", \"Type-B Cables\", \"Headphone Cables\", \"Microphone Cables\",\n",
    "    \"Speaker Cables\", \"USB Cables\", \"HDMI Cables\", \"DisplayPort Cables\", \"Ethernet Cables\", \"VGA Cables\", \"DVI Cables\",\n",
    "    \"Power Cables\", \"Power Bank\", \"Charger\", \"Adapter\", \"Battery\", \"Power Bank\", \"Digital Flashlight\", \"Earpods\", \"Airpods\", \"CCTV Camera Unit\",\n",
    "    \"Phone Cover\", \"USB Stick\", \"USB Flash Drive\", \"USB Hub\", \"USB Card Reader\", \"USB Cable\"\n",
    "})\n",
    "\n",
    "products = {str(i): product for i, product in enumerate(products, start=1)}\n",
    "\n",
    "with (\n",
    "    open(\"Data/product.csv\", \"r\") as f1, \n",
    "    open(\"Data-Population/product.sql\", \"w\") as f2, \n",
    "    open(\"Data/new_product.csv\", \"w\", newline=\"\") as f3\n",
    "):\n",
    "    reader = csv.reader(f1)\n",
    "    writer = csv.writer(f3)\n",
    "    writer.writerow(next(reader))\n",
    "    f2.write(\"USE EBMS;\")\n",
    "    newline(f2)\n",
    "    newline(f2)\n",
    "    for row in reader:\n",
    "        q = random.randint(50000, 80000)\n",
    "        f2.write(f\"INSERT INTO product VALUES ({row[0]}, {products[row[0]]!r}, {row[2]}, {row[3]}, {q}, {row[5]!r});\")\n",
    "        writer.writerow([row[0], products[row[0]], row[2], row[3], q, row[5]])\n",
    "        newline(f2)\n",
    "\n",
    "os.remove(\"Data/product.csv\")\n",
    "os.rename(\"Data/new_product.csv\", \"Data/product.csv\")\n",
    "\n",
    "print(\"Generated product.sql\")"
   ]
  },
  {
   "attachments": {},
   "cell_type": "markdown",
   "metadata": {},
   "source": [
    "### Entity: `orders`\n",
    "\n",
    "Fields: `(orderID, customerID, daID, order_date, delivery_date, ETA, order_status)`"
   ]
  },
  {
   "cell_type": "code",
   "execution_count": 9,
   "metadata": {},
   "outputs": [
    {
     "name": "stdout",
     "output_type": "stream",
     "text": [
      "Generated orders.sql\n"
     ]
    }
   ],
   "source": [
    "import random\n",
    "import datetime as dt\n",
    "\n",
    "with (\n",
    "    open(\"Data/orders.csv\", \"r\") as f1, \n",
    "    open(\"Data-Population/orders.sql\", \"w\") as f2, \n",
    "    open(\"Data/new_orders.csv\", \"w\", newline=\"\") as f3\n",
    "):\n",
    "    reader = csv.reader(f1)\n",
    "    writer = csv.writer(f3)\n",
    "    writer.writerow(next(reader))\n",
    "    f2.write(\"USE EBMS;\")\n",
    "    newline(f2)\n",
    "    newline(f2)\n",
    "    for row in reader:\n",
    "        cid = random.randint(1, 200)\n",
    "        order_date = dt.datetime.strptime(row[3], \"%Y-%m-%d\").date()\n",
    "        if random.choice([True, False]):\n",
    "            delivery_date = (order_date + dt.timedelta(days=random.randint(1, 15))).strftime(\"%Y-%m-%d\")\n",
    "            f2.write(f\"INSERT INTO orders VALUES ({row[0]}, {cid}, {row[2]}, {row[3]!r}, {delivery_date!r});\")\n",
    "        else:\n",
    "            delivery_date = \"NULL\"\n",
    "            f2.write(f\"INSERT INTO orders VALUES ({row[0]}, {cid}, {row[2]}, {row[3]!r}, NULL);\")\n",
    "        writer.writerow([row[0], cid, row[2], row[3], \"\" if delivery_date == \"NULL\" else delivery_date])\n",
    "        newline(f2)\n",
    "\n",
    "os.remove(\"Data/orders.csv\")\n",
    "os.rename(\"Data/new_orders.csv\", \"Data/orders.csv\")\n",
    "\n",
    "print(\"Generated orders.sql\")"
   ]
  },
  {
   "attachments": {},
   "cell_type": "markdown",
   "metadata": {},
   "source": [
    "### Entity: `wallet`\n",
    "\n",
    "Fields: `(customerID, balance, upiID)`"
   ]
  },
  {
   "cell_type": "code",
   "execution_count": 10,
   "metadata": {},
   "outputs": [
    {
     "name": "stdout",
     "output_type": "stream",
     "text": [
      "Generated wallet.sql\n"
     ]
    }
   ],
   "source": [
    "with (\n",
    "    open(\"Data/wallet.csv\", \"r\") as f1, \n",
    "    open(\"Data-Population/wallet.sql\", \"w\") as f2,\n",
    "    open(\"Data/new_wallet.csv\", \"w\", newline=\"\") as f3\n",
    "):\n",
    "    reader = csv.reader(f1)\n",
    "    writer = csv.writer(f3)\n",
    "    writer.writerow(next(reader))\n",
    "    f2.write(\"USE EBMS;\")\n",
    "    newline(f2)\n",
    "    newline(f2)\n",
    "    for row in reader:\n",
    "        balance = round(random.uniform(10000, 50000), 2)\n",
    "        upi = row[2][:row[2].find(\".\")]\n",
    "        f2.write(f\"INSERT INTO wallet VALUES ({row[0]}, {balance}, {upi!r});\")\n",
    "        writer.writerow([row[0], balance, upi])\n",
    "        newline(f2)\n",
    "\n",
    "os.remove(\"Data/wallet.csv\")\n",
    "os.rename(\"Data/new_wallet.csv\", \"Data/wallet.csv\")\n",
    "\n",
    "print(\"Generated wallet.sql\")"
   ]
  },
  {
   "attachments": {},
   "cell_type": "markdown",
   "metadata": {},
   "source": [
    "### Entity: `product_review`\n",
    "\n",
    "Fields: `(customerID, productID, rating, content, review_date)`"
   ]
  },
  {
   "cell_type": "code",
   "execution_count": 11,
   "metadata": {},
   "outputs": [
    {
     "name": "stdout",
     "output_type": "stream",
     "text": [
      "Generated product_review.sql\n"
     ]
    }
   ],
   "source": [
    "rows = []\n",
    "done = set()\n",
    "\n",
    "with (\n",
    "    open(\"Data/orders.csv\", \"r\") as f1,\n",
    "    open(\"Data/order_product.csv\", \"r\") as f2,\n",
    "    open(\"Data/product_review.csv\", \"r\") as f3\n",
    "):\n",
    "    reader1 = list(csv.reader(f1))\n",
    "    reader2 = list(csv.reader(f2))\n",
    "    reader3 = list(csv.reader(f3))\n",
    "\n",
    "    i = 0\n",
    "    while i < 200:\n",
    "        r = random.randint(1, 1000)\n",
    "        orderID = reader1[r][0]\n",
    "        customerID = reader1[r][1]\n",
    "        for record in reader2:\n",
    "            if record[0] == orderID:\n",
    "                productID = record[1]\n",
    "                reader2.remove(record)\n",
    "                break\n",
    "        rating = reader3[i+1][2]\n",
    "        content = reader3[i+1][3]\n",
    "        date = reader3[i+1][4]\n",
    "        delivery_date = reader1[r][4]\n",
    "        if (customerID, productID) not in done and delivery_date != \"\":\n",
    "            rows.append([customerID, productID, rating, content, delivery_date])\n",
    "            i+=1\n",
    "            done.add((customerID, productID))\n",
    "\n",
    "with open(\"Data/product_review.csv\", \"w\", newline=\"\") as f:\n",
    "    writer = csv.writer(f)\n",
    "    writer.writerow([\"customerID\", \"productID\", \"rating\", \"content\", \"review_date\"])\n",
    "    writer.writerows(rows)\n",
    "\n",
    "with (\n",
    "    open(\"Data/product_review.csv\", \"w\", newline=\"\") as f0,\n",
    "    open(\"Data-Population/product_review.sql\", \"w\") as f1\n",
    "):\n",
    "    writer = csv.writer(f0)\n",
    "    f1.write(\"USE EBMS;\")\n",
    "    newline(f1)\n",
    "    newline(f1)\n",
    "    writer.writerow([\"customerID\", \"productID\", \"rating\", \"content\", \"review_date\"])\n",
    "    for row in rows:\n",
    "        writer.writerow(row)\n",
    "        f1.write(f\"INSERT INTO product_review VALUES ({row[0]}, {row[1]}, {row[2]!r}, {row[3]!r}, {row[4]!r});\")\n",
    "        newline(f1)\n",
    "\n",
    "print(\"Generated product_review.sql\")"
   ]
  },
  {
   "attachments": {},
   "cell_type": "markdown",
   "metadata": {},
   "source": [
    "### Entity: `da_review`\n",
    "\n",
    "Fields: `(customerID, daID, rating, content, review_date)`"
   ]
  },
  {
   "cell_type": "code",
   "execution_count": 12,
   "metadata": {},
   "outputs": [
    {
     "name": "stdout",
     "output_type": "stream",
     "text": [
      "Generated da_review.sql\n"
     ]
    }
   ],
   "source": [
    "rows = []\n",
    "added = set()\n",
    "\n",
    "with (\n",
    "    open(\"Data/orders.csv\", \"r\") as f0,\n",
    "    open(\"Data/da_review.csv\", \"r\") as f1\n",
    "):\n",
    "    reader = list(csv.reader(f0))\n",
    "    reader1 = list(csv.reader(f1))\n",
    "\n",
    "    i = 0\n",
    "    while i < 200:\n",
    "        r = random.randint(1, 1000)\n",
    "        orderID = reader[r][0]\n",
    "        customerID = reader[r][1]\n",
    "        daID = reader[r][2]\n",
    "        rating = reader1[i+1][2]\n",
    "        content = reader1[i+1][3]\n",
    "        if (customerID, daID) not in added and reader[r][4] != '':\n",
    "            date = dt.datetime.strptime(reader[r][4], \"%Y-%m-%d\").date() + dt.timedelta(days=random.randint(5, 15))\n",
    "            rows.append([customerID, daID, rating, content, date.strftime(\"%Y-%m-%d\")])\n",
    "            i+=1\n",
    "            added.add((customerID, daID))\n",
    "\n",
    "with (\n",
    "    open(\"Data/da_review.csv\", \"w\", newline=\"\") as f0,\n",
    "    open(\"Data-Population/da_review.sql\", \"w\") as f1\n",
    "):\n",
    "    writer = csv.writer(f0)\n",
    "    f1.write(\"USE EBMS;\")\n",
    "    newline(f1)\n",
    "    newline(f1)\n",
    "    writer.writerow([\"customerID\", \"daID\", \"rating\", \"content\", \"review_date\"])\n",
    "    for row in rows:\n",
    "        writer.writerow(row)\n",
    "        f1.write(f\"INSERT INTO da_review VALUES ({row[0]}, {row[1]}, {row[2]}, {row[3]!r}, {row[4]!r});\")\n",
    "        newline(f1)\n",
    "        \n",
    "print(\"Generated da_review.sql\")"
   ]
  },
  {
   "attachments": {},
   "cell_type": "markdown",
   "metadata": {},
   "source": [
    "### Relationship: `cart`\n",
    "\n",
    "Fields: `(customerID, productID, quantity)`"
   ]
  },
  {
   "cell_type": "code",
   "execution_count": 13,
   "metadata": {},
   "outputs": [
    {
     "name": "stdout",
     "output_type": "stream",
     "text": [
      "Generated cart.sql\n"
     ]
    }
   ],
   "source": [
    "with (\n",
    "    open(\"Data/cart.csv\", \"w\", newline=\"\") as f0,\n",
    "    open(\"Data-Population/cart.sql\", \"w\") as f1,\n",
    "    open(\"Data/customer.csv\", \"r\") as f2,\n",
    "    open(\"Data/product.csv\", \"r\") as f3\n",
    "):\n",
    "    writer = csv.writer(f0)\n",
    "    writer.writerow([\"customerID\", \"productID\", \"quantity\"])\n",
    "    reader2 = csv.reader(f2)\n",
    "    reader3 = csv.reader(f3)\n",
    "    f1.write(\"USE EBMS;\")\n",
    "    newline(f1)\n",
    "    newline(f1)\n",
    "    next(reader2)\n",
    "    next(reader3)\n",
    "    rows2 = list(reader2)\n",
    "    rows3 = list(reader3)\n",
    "    for row2 in rows2:\n",
    "        ordered = random.sample(rows3, random.randint(1, 10))\n",
    "        for product in ordered:\n",
    "            q = random.randint(5, 20)\n",
    "            f1.write(f\"INSERT INTO cart VALUES ({row2[0]}, {product[0]}, {q});\")\n",
    "            writer.writerow([row2[0], product[0], q])\n",
    "            newline(f1)\n",
    "\n",
    "print(\"Generated cart.sql\")"
   ]
  },
  {
   "attachments": {},
   "cell_type": "markdown",
   "metadata": {},
   "source": [
    "### Relationship: `order_product`\n",
    "\n",
    "Fields: `(orderID, productID, quantity)`"
   ]
  },
  {
   "cell_type": "code",
   "execution_count": 14,
   "metadata": {},
   "outputs": [
    {
     "name": "stdout",
     "output_type": "stream",
     "text": [
      "Generated order_product.sql\n"
     ]
    }
   ],
   "source": [
    "with (\n",
    "    open(\"Data/order_product.csv\", \"w\", newline=\"\") as f0,\n",
    "    open(\"Data-Population/order_product.sql\", \"w\") as f1,\n",
    "    open(\"Data/orders.csv\", \"r\") as f2,\n",
    "    open(\"Data/product.csv\", \"r\") as f3\n",
    "):\n",
    "    writer = csv.writer(f0)\n",
    "    writer.writerow([\"orderID\", \"productID\", \"quantity\"])\n",
    "    reader2 = csv.reader(f2)\n",
    "    reader3 = csv.reader(f3)\n",
    "    f1.write(\"USE EBMS;\")\n",
    "    newline(f1)\n",
    "    newline(f1)\n",
    "    next(reader2)\n",
    "    next(reader3)\n",
    "    rows2 = list(reader2)\n",
    "    rows3 = list(reader3)\n",
    "    for row2 in rows2:\n",
    "        ordered = random.sample(rows3, random.randint(1, 10))\n",
    "        for product in ordered:\n",
    "            q = random.randint(5, 20)\n",
    "            f1.write(f\"INSERT INTO order_product VALUES ({row2[0]}, {product[0]}, {q});\")\n",
    "            writer.writerow([row2[0], product[0], q])\n",
    "            newline(f1)\n",
    "\n",
    "print(\"Generated order_product.sql\")"
   ]
  },
  {
   "attachments": {},
   "cell_type": "markdown",
   "metadata": {},
   "source": [
    "Extract data from `Data-Population/*.sql` files and to generate `data-population.sql` file."
   ]
  },
  {
   "cell_type": "code",
   "execution_count": 9,
   "metadata": {},
   "outputs": [
    {
     "name": "stdout",
     "output_type": "stream",
     "text": [
      "Executing address.sql\n",
      "Executing phone_number.sql\n",
      "Executing admin.sql\n",
      "Executing supplier.sql\n",
      "Executing customer.sql\n",
      "Executing delivery_agent.sql\n",
      "Executing product.sql\n",
      "Executing orders.sql\n",
      "Executing wallet.sql\n",
      "Executing product_review.sql\n",
      "Executing da_review.sql\n",
      "Executing cart.sql\n",
      "Executing order_product.sql\n"
     ]
    }
   ],
   "source": [
    "order_of_execution = [\n",
    "    \"address\", \"phone_number\", \"admin\", \"supplier\", \"customer\", \"delivery_agent\", \"product\", \"orders\", \"wallet\", \"product_review\", \"da_review\", \"cart\", \"order_product\"\n",
    "]\n",
    "\n",
    "with open(\"data-population.sql\", \"w\") as f1:\n",
    "    for table in order_of_execution:\n",
    "        with open(f\"Data-Population/{table}.sql\", \"r\") as f2:\n",
    "            print(f\"Executing {table}.sql\")\n",
    "            f1.write(f\"-- {table.upper()}\")\n",
    "            newline(f1)\n",
    "            f1.write(f2.read())\n",
    "            newline(f1)"
   ]
  }
 ],
 "metadata": {
  "kernelspec": {
   "display_name": "Python 3",
   "language": "python",
   "name": "python3"
  },
  "language_info": {
   "codemirror_mode": {
    "name": "ipython",
    "version": 3
   },
   "file_extension": ".py",
   "mimetype": "text/x-python",
   "name": "python",
   "nbconvert_exporter": "python",
   "pygments_lexer": "ipython3",
   "version": "3.11.0"
  },
  "orig_nbformat": 4,
  "vscode": {
   "interpreter": {
    "hash": "8ccd1fcf802e31b9f67d4b512358d87683d9d81bc8fb630258f242441903a73f"
   }
  }
 },
 "nbformat": 4,
 "nbformat_minor": 2
}
